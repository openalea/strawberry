{
 "cells": [
  {
   "cell_type": "code",
   "execution_count": 9,
   "metadata": {},
   "outputs": [],
   "source": [
    "import pandas as pd\n",
    "from pathlib import Path\n",
    "\n",
    "from openalea.plantgl.all import*\n",
    "from openalea.mtg import io\n",
    "from openalea.lpy import AxialTree\n"
   ]
  },
  {
   "cell_type": "code",
   "execution_count": 10,
   "metadata": {},
   "outputs": [],
   "source": [
    "home_path = Path.home()\n",
    "path_data= home_path / \"Desktop\" \n",
    "files=list(path_data.glob(\"*xlsx\"))"
   ]
  },
  {
   "cell_type": "code",
   "execution_count": 11,
   "metadata": {},
   "outputs": [],
   "source": [
    "def read_file(file,sheet_name):\n",
    "    xls= pd.ExcelFile(file)\n",
    "    df=pd.read_excel(xls,sheet_name=sheet_name)\n",
    "    return df\n",
    "\n",
    "def topology(df, first_property):\n",
    "    # select topological part of file\n",
    "    start_prop=df.columns.get_loc(first_property)\n",
    "    df = df.loc[:,list(df.columns[:start_prop])]\n",
    "    \n",
    "    # convert in string\n",
    "    array = df.fillna(-1).to_numpy() #replace na value by -1 and convert to numpy array\n",
    "    \n",
    "    # convert array to string\n",
    "    row_index = list(range(0,array.shape[0]))\n",
    "    column_index = list(range(0,array.shape[1]))\n",
    "    column_start = 0\n",
    "    string=[]\n",
    "    \n",
    "    for row in row_index:\n",
    "        for column in column_index:\n",
    "            if array[row,column]!=-1:\n",
    "                break\n",
    "        if column == column_start:\n",
    "            string.append(array[row,column])\n",
    "        elif column < column_start:\n",
    "            string.extend([']',array[row,column]])\n",
    "        else:\n",
    "            string.extend(['[',array[row,column]])\n",
    "        \n",
    "        column_start = column\n",
    "        \n",
    "    string = \"\".join(string)\n",
    "    \n",
    "    def test_string_convertion(string):\n",
    "        count=0\n",
    "        for x in string:\n",
    "            if x == \"[\":\n",
    "                count+=1\n",
    "            elif x == \"]\":\n",
    "                count-=1\n",
    "\n",
    "        return count\n",
    "    \n",
    "    if test_string_convertion(string)==0:\n",
    "        return string\n",
    "    else:\n",
    "        print(\"Error in convertion dataframe to string\")\n",
    "\n",
    "    # test string\n",
    "   \n",
    "\n",
    "def add_properties(g, df, first_property):\n",
    "        start_prop=df.columns.get_loc(first_property)\n",
    "        df = df.loc[:,list(df.columns[start_prop:])]\n",
    "        df=df.where(pd.notnull(df), None)\n",
    "        property_dict=df.to_dict()\n",
    "        \n",
    "        for key,value in property_dict.items():\n",
    "                g.properties()[key]=value\n",
    "                \n",
    "        return g\n",
    "\n",
    "def strawberry_reader_dataframe(file,sheet_name,first_property,symbol_at_scale):\n",
    "    df=read_file(file,sheet_name)\n",
    "    string= topology(df,first_property)\n",
    "\n",
    "    scene = Scene()\n",
    "    axialtree = AxialTree(string)\n",
    "    \n",
    "    g = io.axialtree2mtg(tree=axialtree, scale=symbol_at_scale, scene=scene)\n",
    "    g= add_properties(g, df,first_property)\n",
    "    \n",
    "    return g\n"
   ]
  },
  {
   "cell_type": "code",
   "execution_count": 12,
   "metadata": {},
   "outputs": [
    {
     "name": "stdout",
     "output_type": "stream",
     "text": [
      "ERROR: Missing component for vertex 23\n",
      "ERROR: Missing component for vertex 24\n",
      "ERROR: Missing component for vertex 37\n",
      "ERROR: Missing component for vertex 38\n",
      "ERROR: Missing component for vertex 55\n",
      "ERROR: Missing component for vertex 56\n",
      "ERROR: Missing component for vertex 57\n",
      "MTG : nb_vertices=58, nb_scales=4\n",
      "/P\t\t\t(id=1)\t\t\t\t\t\t\t\t\t\t\t\n",
      "^/T\t\t\t(id=2)\t\t\t\t\t\t\t\t\t\t\t\n",
      "^/F\t\t\t(id=3)\t\t\t\t\t\t\t\t\t\t\t\n",
      "\t+b\t\t\t(id=4)\t\t\t\t\t\t\t\t\t\t\n",
      "^<F\t\t\t(id=5)\t\t\t\t\t\t\t\t\t\t\t\n",
      "\t+F\t\t\t(id=6)\t\t\t\t\t\t\t\t\t\t\n",
      "\t\t+b\t\t\t(id=7)\t\t\t\t\t\t\t\t\t\n",
      "\t^<F\t\t\t(id=8)\t\t\t\t\t\t\t\t\t\t\n",
      "\t\t+F\t\t\t(id=9)\t\t\t\t\t\t\t\t\t\n",
      "\t\t\t+b\t\t\t(id=10)\t\t\t\t\t\t\t\t\n",
      "\t\t^<F\t\t\t(id=11)\t\t\t\t\t\t\t\t\t\n",
      "\t\t\t+b\t\t\t(id=12)\t\t\t\t\t\t\t\t\n",
      "\t\t^<F\t\t\t(id=13)\t\t\t\t\t\t\t\t\t\n",
      "\t\t\t+b\t\t\t(id=14)\t\t\t\t\t\t\t\t\n",
      "\t\t^<F\t\t\t(id=15)\t\t\t\t\t\t\t\t\t\n",
      "\t\t\t+F\t\t\t(id=16)\t\t\t\t\t\t\t\t\n",
      "\t\t\t\t+b\t\t\t(id=17)\t\t\t\t\t\t\t\n",
      "\t\t\t^<F\t\t\t(id=18)\t\t\t\t\t\t\t\t\n",
      "\t\t\t\t+b\t\t\t(id=19)\t\t\t\t\t\t\t\n",
      "\t\t\t^<f\t\t\t(id=20)\t\t\t\t\t\t\t\t\n",
      "\t\t\t\t+b\t\t\t(id=21)\t\t\t\t\t\t\t\n",
      "\t\t\t^<b\t\t\t(id=22)\t\t\t\t\t\t\t\t\n",
      "^<F\t\t\t(id=25)\t\t\t\t\t\t\t\t\t\t\t\n",
      "\t+F\t\t\t(id=26)\t\t\t\t\t\t\t\t\t\t\n",
      "\t\t+b\t\t\t(id=27)\t\t\t\t\t\t\t\t\t\n",
      "\t^<F\t\t\t(id=28)\t\t\t\t\t\t\t\t\t\t\n",
      "\t\t+F\t\t\t(id=29)\t\t\t\t\t\t\t\t\t\n",
      "\t\t\t+b\t\t\t(id=30)\t\t\t\t\t\t\t\t\n",
      "\t\t^<F\t\t\t(id=31)\t\t\t\t\t\t\t\t\t\n",
      "\t\t\t+f\t\t\t(id=32)\t\t\t\t\t\t\t\t\n",
      "\t\t\t\t+b\t\t\t(id=33)\t\t\t\t\t\t\t\n",
      "\t\t\t^<f\t\t\t(id=34)\t\t\t\t\t\t\t\t\n",
      "\t\t\t\t+b\t\t\t(id=35)\t\t\t\t\t\t\t\n",
      "\t\t\t^<b\t\t\t(id=36)\t\t\t\t\t\t\t\t\n",
      "^<F\t\t\t(id=39)\t\t\t\t\t\t\t\t\t\t\t\n",
      "\t+b\t\t\t(id=40)\t\t\t\t\t\t\t\t\t\t\n",
      "^<F\t\t\t(id=41)\t\t\t\t\t\t\t\t\t\t\t\n",
      "\t+b\t\t\t(id=42)\t\t\t\t\t\t\t\t\t\t\n",
      "^<F\t\t\t(id=43)\t\t\t\t\t\t\t\t\t\t\t\n",
      "\t+F\t\t\t(id=44)\t\t\t\t\t\t\t\t\t\t\n",
      "\t\t+F\t\t\t(id=45)\t\t\t\t\t\t\t\t\t\n",
      "\t\t\t+b\t\t\t(id=46)\t\t\t\t\t\t\t\t\n",
      "\t\t^<F\t\t\t(id=47)\t\t\t\t\t\t\t\t\t\n",
      "\t\t\t+b\t\t\t(id=48)\t\t\t\t\t\t\t\t\n",
      "\t\t^<F\t\t\t(id=49)\t\t\t\t\t\t\t\t\t\n",
      "\t\t\t+b\t\t\t(id=50)\t\t\t\t\t\t\t\t\n",
      "\t\t^<F\t\t\t(id=51)\t\t\t\t\t\t\t\t\t\n",
      "\t\t\t+f\t\t\t(id=52)\t\t\t\t\t\t\t\t\n",
      "\t\t\t\t+b\t\t\t(id=53)\t\t\t\t\t\t\t\n",
      "\t\t\t^<b\t\t\t(id=54)\t\t\t\t\t\t\t\t\n"
     ]
    }
   ],
   "source": [
    "file=files[2]\n",
    "my_sheet='Example test notation'\n",
    "first_property=\"experimental_name\"\n",
    "symbol_at_scale= dict(P=1,T=2, F=3, f=3, b=3, HT=3)\n",
    "g=strawberry_reader_dataframe(file,sheet_name=my_sheet,first_property=\"experimental_name\",symbol_at_scale=symbol_at_scale)\n",
    "g.display()"
   ]
  },
  {
   "cell_type": "code",
   "execution_count": 13,
   "metadata": {},
   "outputs": [
    {
     "name": "stdout",
     "output_type": "stream",
     "text": [
      "ERROR: Missing component for vertex 23\n",
      "ERROR: Missing component for vertex 24\n",
      "ERROR: Missing component for vertex 37\n",
      "ERROR: Missing component for vertex 38\n",
      "ERROR: Missing component for vertex 55\n",
      "ERROR: Missing component for vertex 56\n",
      "ERROR: Missing component for vertex 57\n"
     ]
    },
    {
     "data": {
      "text/plain": [
       "<openalea.mtg.mtg.MTG at 0x2ccadc7fdc0>"
      ]
     },
     "execution_count": 13,
     "metadata": {},
     "output_type": "execute_result"
    }
   ],
   "source": [
    "df= read_file(file, sheet_name= my_sheet)\n",
    "s=topology(df,\"experimental_name\")\n",
    "axialtree=AxialTree(s)\n",
    "scene=Scene()\n",
    "io.axialtree2mtg(tree=axialtree, scale=symbol_at_scale, scene=scene)"
   ]
  },
  {
   "cell_type": "code",
   "execution_count": 19,
   "metadata": {},
   "outputs": [
    {
     "name": "stdout",
     "output_type": "stream",
     "text": [
      "\u001b[1;31mSignature:\u001b[0m \u001b[0mg\u001b[0m\u001b[1;33m.\u001b[0m\u001b[0madd_component\u001b[0m\u001b[1;33m(\u001b[0m\u001b[0mcomplex_id\u001b[0m\u001b[1;33m,\u001b[0m \u001b[0mcomponent_id\u001b[0m\u001b[1;33m=\u001b[0m\u001b[1;32mNone\u001b[0m\u001b[1;33m,\u001b[0m \u001b[1;33m**\u001b[0m\u001b[0mproperties\u001b[0m\u001b[1;33m)\u001b[0m\u001b[1;33m\u001b[0m\u001b[1;33m\u001b[0m\u001b[0m\n",
      "\u001b[1;31mDocstring:\u001b[0m\n",
      "Add a component at the end of the components\n",
      "\n",
      ":Parameters:\n",
      " - `complex_id`: The complex identifier.\n",
      " - `component_id`: Set the component identifier to this value if defined.\n",
      "\n",
      ":Returns: The id of the new component or the component_id if given.\n",
      "\u001b[1;31mFile:\u001b[0m      c:\\users\\mlabadie\\miniconda3\\envs\\straw\\lib\\site-packages\\openalea.mtg-2.0.4-py3.8.egg\\openalea\\mtg\\mtg.py\n",
      "\u001b[1;31mType:\u001b[0m      method\n"
     ]
    }
   ],
   "source": []
  },
  {
   "cell_type": "code",
   "execution_count": null,
   "metadata": {},
   "outputs": [],
   "source": []
  },
  {
   "cell_type": "code",
   "execution_count": null,
   "metadata": {},
   "outputs": [],
   "source": []
  }
 ],
 "metadata": {
  "interpreter": {
   "hash": "843ff5a2cd39a323341e6bcdf5b14b5794af704ba32599420cb0baea0f0079a1"
  },
  "kernelspec": {
   "display_name": "Python 3.8.12 ('straw')",
   "language": "python",
   "name": "python3"
  },
  "language_info": {
   "codemirror_mode": {
    "name": "ipython",
    "version": 3
   },
   "file_extension": ".py",
   "mimetype": "text/x-python",
   "name": "python",
   "nbconvert_exporter": "python",
   "pygments_lexer": "ipython3",
   "version": "3.8.12"
  },
  "orig_nbformat": 4
 },
 "nbformat": 4,
 "nbformat_minor": 2
}
