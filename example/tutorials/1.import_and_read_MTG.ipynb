{
 "cells": [
  {
   "cell_type": "markdown",
   "metadata": {},
   "source": [
    "# Import and read mtg file\n",
    "\n",
    "**note:** Requirement for this tutorial: you must have to create an MTG file and upload .mtg file in share/data (cf. tutorial XXX)"
   ]
  },
  {
   "cell_type": "markdown",
   "metadata": {},
   "source": [
    "## Modules requierement"
   ]
  },
  {
   "cell_type": "markdown",
   "metadata": {},
   "source": [
    "### Import openalea module"
   ]
  },
  {
   "cell_type": "code",
   "execution_count": 4,
   "metadata": {},
   "outputs": [],
   "source": [
    "from openalea.mtg.algo import split\n",
    "from openalea.mtg import algo\n",
    "import pandas as pd\n",
    "from collections import OrderedDict, defaultdict"
   ]
  },
  {
   "cell_type": "markdown",
   "metadata": {},
   "source": [
    "### Import oawidget module"
   ]
  },
  {
   "cell_type": "code",
   "execution_count": 5,
   "metadata": {},
   "outputs": [],
   "source": [
    "from oawidgets.mtg import plot"
   ]
  },
  {
   "cell_type": "markdown",
   "metadata": {},
   "source": [
    "### Import strawberry modules"
   ]
  },
  {
   "cell_type": "code",
   "execution_count": 6,
   "metadata": {},
   "outputs": [],
   "source": [
    "import openalea.strawberry #import openalea.strawberry module\n",
    "from openalea.strawberry.import_mtgfile import import_mtgfile\n",
    "from openalea.strawberry.import_mtgfile import plant_number_by_varieties"
   ]
  },
  {
   "cell_type": "markdown",
   "metadata": {},
   "source": [
    "## Import mtg and read \n",
    "  \n",
    "  \n",
    "**NOTE**: In our package each mtg file correspond to some plant of one variety"
   ]
  },
  {
   "cell_type": "markdown",
   "metadata": {},
   "source": [
    "* Import and read one mtg file (MTG file corresponding to one varity)"
   ]
  },
  {
   "cell_type": "code",
   "execution_count": 8,
   "metadata": {},
   "outputs": [
    {
     "ename": "KeyError",
     "evalue": "'Breading_value'",
     "output_type": "error",
     "traceback": [
      "\u001b[0;31m---------------------------------------------------------------------------\u001b[0m",
      "\u001b[0;31mKeyError\u001b[0m                                  Traceback (most recent call last)",
      "Cell \u001b[0;32mIn[8], line 1\u001b[0m\n\u001b[0;32m----> 1\u001b[0m g \u001b[38;5;241m=\u001b[39m \u001b[43mimport_mtgfile\u001b[49m\u001b[43m(\u001b[49m\u001b[43mfilename\u001b[49m\u001b[38;5;241;43m=\u001b[39;49m\u001b[43m \u001b[49m\u001b[43m[\u001b[49m\u001b[38;5;124;43m\"\u001b[39;49m\u001b[38;5;124;43mBreading_value\u001b[39;49m\u001b[38;5;124;43m\"\u001b[39;49m\u001b[43m]\u001b[49m\u001b[43m)\u001b[49m\n\u001b[1;32m      2\u001b[0m \u001b[38;5;28mprint\u001b[39m(g)\n",
      "File \u001b[0;32m~/devlp/git/strawberry/src/openalea/strawberry/import_mtgfile.py:41\u001b[0m, in \u001b[0;36mimport_mtgfile\u001b[0;34m(filename)\u001b[0m\n\u001b[1;32m     39\u001b[0m mtgfile \u001b[38;5;241m=\u001b[39m \u001b[38;5;28mdict\u001b[39m((k,f) \u001b[38;5;28;01mfor\u001b[39;00m k,f \u001b[38;5;129;01min\u001b[39;00m mtg_path\u001b[38;5;241m.\u001b[39mitems() \u001b[38;5;28;01mif\u001b[39;00m k \u001b[38;5;129;01min\u001b[39;00m filenames)\n\u001b[1;32m     40\u001b[0m \u001b[38;5;28;01mif\u001b[39;00m \u001b[38;5;28mlen\u001b[39m(filenames) \u001b[38;5;241m==\u001b[39m \u001b[38;5;241m1\u001b[39m:\n\u001b[0;32m---> 41\u001b[0m     g \u001b[38;5;241m=\u001b[39m MTG(\u001b[43mmtgfile\u001b[49m\u001b[43m[\u001b[49m\u001b[43mfilenames\u001b[49m\u001b[43m[\u001b[49m\u001b[38;5;241;43m0\u001b[39;49m\u001b[43m]\u001b[49m\u001b[43m]\u001b[49m)\n\u001b[1;32m     42\u001b[0m     \u001b[38;5;28;01mreturn\u001b[39;00m g\n\u001b[1;32m     43\u001b[0m \u001b[38;5;28;01melse\u001b[39;00m:\n",
      "\u001b[0;31mKeyError\u001b[0m: 'Breading_value'"
     ]
    }
   ],
   "source": [
    "g = import_mtgfile(filename= [\"Breading_value\"])\n",
    "print(g)\n"
   ]
  },
  {
   "cell_type": "markdown",
   "metadata": {},
   "source": [
    "* import several mtg file for meta-analysis (Some varieties)"
   ]
  },
  {
   "cell_type": "code",
   "execution_count": 5,
   "metadata": {},
   "outputs": [
    {
     "name": "stdout",
     "output_type": "stream",
     "text": [
      "MTG : nb_vertices=37860, nb_scales=4\n"
     ]
    }
   ],
   "source": [
    "metaMTG= import_mtgfile(filename=[\"Capriss\", \"Ciflorette\", \"Clery\", \"Cir107\", \"Darselect\", \"Gariguette\"])\n",
    "print(metaMTG)\n",
    "g=metaMTG"
   ]
  },
  {
   "cell_type": "markdown",
   "metadata": {},
   "source": [
    "## Somes functions to check if mtg are correctly read"
   ]
  },
  {
   "cell_type": "markdown",
   "metadata": {},
   "source": [
    "### Display mtg"
   ]
  },
  {
   "cell_type": "code",
   "execution_count": null,
   "metadata": {
    "scrolled": true
   },
   "outputs": [],
   "source": [
    "# display in the console the MTG stored in g (here one genotype)\n",
    "# g.display()"
   ]
  },
  {
   "cell_type": "markdown",
   "metadata": {},
   "source": [
    "Each plant in the MTG can be displayed as a graph"
   ]
  },
  {
   "cell_type": "code",
   "execution_count": 6,
   "metadata": {},
   "outputs": [],
   "source": [
    "straws = split(g)\n",
    "stade= straws[0].property(\"Stade\")\n",
    "# plot(straws[0])"
   ]
  },
  {
   "cell_type": "markdown",
   "metadata": {},
   "source": [
    "### Check properties contains in mtg\n",
    "\n",
    "In mtg properties correspond to all parameters which define mtg (Measurements, label, edge_type...)"
   ]
  },
  {
   "cell_type": "code",
   "execution_count": 7,
   "metadata": {},
   "outputs": [
    {
     "data": {
      "text/plain": [
       "dict_keys(['edge_type', 'label', 'Experiment_name', 'Sample_date', 'Genotype', 'Modality', 'Plant_ID', '_line', 'DBI', 'Stade', 'PETLG', 'LFTLG_CENTRAL', 'LFTLG_LEFT', 'INFLOLG', 'FLWRNUMBER', 'FLWRNUMBER_OPEN', 'FLWRNUMBER_ABORTED', 'SAMPLING', 'FLWRNUMBER_CLOSED'])"
      ]
     },
     "execution_count": 7,
     "metadata": {},
     "output_type": "execute_result"
    }
   ],
   "source": [
    "metaMTG.properties().keys()"
   ]
  },
  {
   "cell_type": "markdown",
   "metadata": {},
   "source": [
    "### Check varieties and the number of plant contain in mtg files"
   ]
  },
  {
   "cell_type": "code",
   "execution_count": 8,
   "metadata": {},
   "outputs": [
    {
     "name": "stdout",
     "output_type": "stream",
     "text": [
      "Darselect : 54 plants\n",
      "Cir107 : 54 plants\n",
      "Ciflorette : 54 plants\n",
      "Gariguette : 54 plants\n",
      "Capriss : 54 plants\n",
      "Clery : 54 plants\n"
     ]
    }
   ],
   "source": [
    "plant_number_by_varieties(g=metaMTG)"
   ]
  },
  {
   "cell_type": "code",
   "execution_count": null,
   "metadata": {},
   "outputs": [],
   "source": []
  }
 ],
 "metadata": {
  "kernelspec": {
   "display_name": "Python 3 (ipykernel)",
   "language": "python",
   "name": "python3"
  },
  "language_info": {
   "codemirror_mode": {
    "name": "ipython",
    "version": 3
   },
   "file_extension": ".py",
   "mimetype": "text/x-python",
   "name": "python",
   "nbconvert_exporter": "python",
   "pygments_lexer": "ipython3",
   "version": "3.9.16"
  },
  "widgets": {
   "application/vnd.jupyter.widget-state+json": {
    "state": {},
    "version_major": 2,
    "version_minor": 0
   }
  }
 },
 "nbformat": 4,
 "nbformat_minor": 2
}
