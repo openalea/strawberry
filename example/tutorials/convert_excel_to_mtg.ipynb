{
 "cells": [
  {
   "cell_type": "code",
   "execution_count": null,
   "id": "7264fe29-9c9f-4b98-943a-b7fc11e215d5",
   "metadata": {},
   "outputs": [],
   "source": [
    "from pathlib import Path\n",
    "import pandas as pd\n",
    "from datetime import datetime\n",
    "\n",
    "from openalea.mtg.io import write_mtg\n",
    "from openalea.deploy.shared_data import shared_data\n",
    "from oawidgets.plantgl import PlantGL\n",
    "\n",
    "import openalea.strawberry\n",
    "from openalea.strawberry.import_mtgfile import import_mtgfile,import_mtg_from_csv, union,strawberry_reader_csv\n",
    "from openalea.strawberry import analysis\n",
    "from openalea.strawberry import visu2d, visu3d\n",
    "from openalea.plantgl.all import Viewer"
   ]
  },
  {
   "cell_type": "code",
   "execution_count": null,
   "id": "e8a8bfaf-7a33-4a0a-9975-6042b158ee06",
   "metadata": {},
   "outputs": [],
   "source": [
    "home_path = Path.home()\n",
    "path_data= home_path / \"Documents\" / \"GitHub\" / \"strawberry\" / \"share\" / \"data\" / \"breeding_value\"\n",
    "files=list(path_data.glob(\"*xlsx\"))"
   ]
  },
  {
   "cell_type": "code",
   "execution_count": null,
   "id": "1e74e373-e966-41c5-93de-5cfda848c08c",
   "metadata": {},
   "outputs": [],
   "source": [
    "shared_data(openalea.strawberry) / \"breeding_value\""
   ]
  },
  {
   "cell_type": "code",
   "execution_count": null,
   "id": "dc6e458a-7553-48c2-89f7-77bc035ae5cb",
   "metadata": {},
   "outputs": [],
   "source": [
    "mtgs=import_mtg_from_csv(files=files, first_property=\"experimental_names\",symbol_at_scale=dict(P=1,T=2, F=3, f=3, b=3, HT=3, bt=3, ht=3,s=3))"
   ]
  },
  {
   "cell_type": "code",
   "execution_count": null,
   "id": "dbdb8d66-2e41-447b-b207-d04db1638a96",
   "metadata": {},
   "outputs": [],
   "source": [
    "g=mtgs[\"Belle_et_Bonne\"]\n",
    "g= union(g)\n",
    "#d=g.property('Sample_date')\n",
    "from datetime import datetime\n",
    "#datetime.strftime(d[1], '%d/%m/%Y')\n",
    "\n",
    "for k in g.property('Sample_date').keys():\n",
    "    g.property('Sample_date')[k]=datetime.strftime(g.property('Sample_date')[k], '%d/%m/%Y')\n",
    "    g.property('Architecture_date')[k]=datetime.strftime(g.property('Architecture_date')[k], '%d/%m/%Y')\n",
    "    \n",
    "\n",
    "g.property_names()"
   ]
  },
  {
   "cell_type": "code",
   "execution_count": null,
   "id": "dac80c1f-542b-4210-895e-d8b3a805c3dc",
   "metadata": {},
   "outputs": [],
   "source": [
    "properties = [('experimental_name','STRING'),\n",
    "              ('Genotype',\"STRING\"),\n",
    "              ('Modality','STRING'),\n",
    "              ('Plant_ID','REAL'),\n",
    "              ('Sample_date','DD/MM/YY'),\n",
    "              ('Architecture_date','DD/MM/YY'),\n",
    "              ('Stade','STRING'),\n",
    "              ('no_fruits','REAL'),\n",
    "              ('no_flowers','REAL'),\n",
    "              ('total_flowers','REAL'),\n",
    "              ('area','REAL'),\n",
    "              ('leaf_ID','REAL'),\n",
    "              ('order','REAL')]\n",
    "              \n",
    "              \n",
    "#properties = [(p, 'REAL') for p in g.property_names() if p not in ['edge_type', 'index', 'label','_axial_id']]"
   ]
  },
  {
   "cell_type": "code",
   "execution_count": null,
   "id": "137f82a5-ec91-4710-ae3f-2ffdd14df72c",
   "metadata": {},
   "outputs": [],
   "source": [
    "mtg_lines = write_mtg(g, properties,class_at_scale={'P':1,'T':2,'A':2,'F':3,'f':3,'s':3,'bt':3,'ht':3,'HT':3},nb_tab=7)\n",
    "filename = list(set(g.property(\"Genotype\").values()))[0]+'.mtg'\n",
    "data=path_data / filename\n",
    "f = open(str(data), 'w',encoding='UTF8')\n",
    "f.write(mtg_lines)\n",
    "f.close()"
   ]
  },
  {
   "cell_type": "code",
   "execution_count": null,
   "id": "8114dc62-99db-4781-933e-da67dc8355e9",
   "metadata": {},
   "outputs": [],
   "source": [
    "t= import_mtgfile(filename=\"Belle_et_Bonne\")"
   ]
  },
  {
   "cell_type": "code",
   "execution_count": null,
   "id": "65a6098c-15e3-4544-8ba0-ffcef2d64a6b",
   "metadata": {},
   "outputs": [],
   "source": [
    "import_mtgfile?"
   ]
  },
  {
   "cell_type": "markdown",
   "id": "7aa0d15d",
   "metadata": {},
   "source": [
    "# Main function"
   ]
  },
  {
   "cell_type": "code",
   "execution_count": 1,
   "id": "f8cca6f3-bf39-476f-95a8-c90decd57fc4",
   "metadata": {},
   "outputs": [],
   "source": [
    "from pathlib import Path\n",
    "import pandas as pd\n",
    "from datetime import datetime\n",
    "\n",
    "from openalea.mtg.io import write_mtg\n",
    "from openalea.deploy.shared_data import shared_data\n",
    "from oawidgets.plantgl import PlantGL\n",
    "\n",
    "import openalea.strawberry\n",
    "from openalea.strawberry.import_mtgfile import import_mtgfile,import_mtg_from_csv, union,strawberry_reader_csv\n",
    "from openalea.strawberry import analysis\n",
    "from openalea.strawberry import visu2d, visu3d\n",
    "from openalea.plantgl.all import Viewer"
   ]
  },
  {
   "cell_type": "code",
   "execution_count": 2,
   "id": "ae301e8f",
   "metadata": {},
   "outputs": [],
   "source": [
    "def path_data(directory_name=None, filename=None):\n",
    "    if directory_name is None:\n",
    "        pathdir = shared_data(openalea.strawberry)\n",
    "    else:\n",
    "        pathdir= shared_data(openalea.strawberry) / directory_name\n",
    "    \n",
    "    if filename is None:\n",
    "        pathdir = pathdir\n",
    "    else:\n",
    "        pathdir = pathdir / filename +\".xlsx\"\n",
    "    \n",
    "    return pathdir\n",
    "\n",
    "def write_excel_to_mtg(directory_name=None, \n",
    "                       filename=None, \n",
    "                       properties =[('experimental_name','STRING'),\n",
    "                                    ('Genotype',\"STRING\"),\n",
    "                                    ('Modality','STRING'),\n",
    "                                    ('Plant_ID','REAL'),\n",
    "                                    ('Sample_date','DD/MM/YY'),\n",
    "                                    ('Architecture_date','DD/MM/YY'),\n",
    "                                    ('Stade','STRING'),\n",
    "                                    ('no_fruits','REAL'),\n",
    "                                    ('no_flowers','REAL'),\n",
    "                                    ('FLWRNUMBER','REAL'),\n",
    "                                    ('area','REAL'),\n",
    "                                    ('leaf_ID','REAL'),\n",
    "                                    ('order','REAL')],\n",
    "                       symbole_at_scale={\"P\":1,\"T\":2,\"A\":2,\"F\":3,\"f\":3,\"HT\":3, \"bt\":3, \"ht\":3,\"s\":3}):\n",
    "    \n",
    "    path_file=path_data(directory_name=directory_name, filename=filename)\n",
    "    \n",
    "    if path_file.endswith(\".xlsx\"):\n",
    "        g=strawberry_reader_csv(file=path_file,first_property=\"experimental_name\",symbole_at_scale=symbole_at_scale)\n",
    "        g= union(g)\n",
    "    else: \n",
    "        files=list(path_file.glob(\"*xlsx\"))\n",
    "        #assert (files== None, \"directory no contain .xlsx file\")\n",
    "        g= import_mtg_from_csv(files=files,first_property=\"experimental_name\",symbol_at_scale=symbole_at_scale)\n",
    "        g=union(g)\n",
    "        \n",
    "    for k in g.property('Sample_date').keys():\n",
    "        g.property('Sample_date')[k]=datetime.strftime(g.property('Sample_date')[k], '%d/%m/%Y')\n",
    "        g.property('Architecture_date')[k]=datetime.strftime(g.property('Architecture_date')[k], '%d/%m/%Y')\n",
    "    \n",
    "    # convert total_flowers name in FLWRNUMBER (properties requiered in the source code)\n",
    "    g.properties()[\"FLWRNUMBER\"]=g.properties()[\"total_flowers\"]\n",
    "    del g.properties()[\"total_flowers\"]\n",
    "    \n",
    "    max_order= max(g.property(\"order\").values())+1\n",
    "    mtg_lines = write_mtg(g, properties,class_at_scale=symbole_at_scale,nb_tab=max_order)\n",
    "    name = path_file.replace('.xlsx','.mtg')\n",
    "    \n",
    "    f = open(str(name), 'w',encoding='UTF8')\n",
    "    f.write(mtg_lines)\n",
    "    f.close()"
   ]
  },
  {
   "cell_type": "markdown",
   "id": "45c9b118-ae5c-4c51-81d4-222aa508a88f",
   "metadata": {},
   "source": [
    "### For a single .xlsx file"
   ]
  },
  {
   "cell_type": "code",
   "execution_count": null,
   "id": "3befb24c-856e-4e1d-bdf3-a20cd236787f",
   "metadata": {},
   "outputs": [],
   "source": [
    "directory_name= \"breeding_value\" # name of your directory containing .xlsx file\n",
    "filename= 'Belle_et_Bonne' # filename of .xlsx\n",
    "\n",
    "write_excel_to_mtg(directory_name,filename,symbole_at_scale={'P':1,'T':2,'A':2,'F':3,'f':3,'s':3,'bt':3,'ht':3,'HT':3})"
   ]
  },
  {
   "cell_type": "markdown",
   "id": "958fa99b-9035-4713-8150-3d3c7d6d9945",
   "metadata": {},
   "source": [
    "### For all file into one directory"
   ]
  },
  {
   "cell_type": "code",
   "execution_count": 3,
   "id": "fa2a156e-3d99-47f4-8829-b1d8377288bf",
   "metadata": {},
   "outputs": [
    {
     "name": "stderr",
     "output_type": "stream",
     "text": [
      "c:\\users\\mlabadie\\documents\\github\\strawberry\\src\\openalea\\strawberry\\import_mtgfile.py:222: Warning: Redeclaration of module 'F'.\n",
      "  l.declare(module)\n",
      "c:\\users\\mlabadie\\documents\\github\\strawberry\\src\\openalea\\strawberry\\import_mtgfile.py:222: Warning: Redeclaration of module 'f'.\n",
      "  l.declare(module)\n"
     ]
    }
   ],
   "source": [
    "directory_name= \"breeding_value\" #  name of your directory containing .xlsx file\n",
    "\n",
    "path=shared_data(openalea.strawberry).glob(directory_name+'\\*.xlsx')\n",
    "names=[filename.split(\"\\\\\")[-1].split(\".\")[0] for filename in path]\n",
    "for name in names:\n",
    "    write_excel_to_mtg(directory_name=directory_name,filename=name)"
   ]
  },
  {
   "cell_type": "code",
   "execution_count": null,
   "id": "17e2068a-28a9-4408-b020-91e6dd8f96a5",
   "metadata": {},
   "outputs": [],
   "source": []
  },
  {
   "cell_type": "code",
   "execution_count": null,
   "id": "b99ee175-73a6-40cc-8e79-aad048d88ad6",
   "metadata": {},
   "outputs": [],
   "source": []
  }
 ],
 "metadata": {
  "kernelspec": {
   "display_name": "Python 3 (ipykernel)",
   "language": "python",
   "name": "python3"
  },
  "language_info": {
   "codemirror_mode": {
    "name": "ipython",
    "version": 3
   },
   "file_extension": ".py",
   "mimetype": "text/x-python",
   "name": "python",
   "nbconvert_exporter": "python",
   "pygments_lexer": "ipython3",
   "version": "3.9.12"
  }
 },
 "nbformat": 4,
 "nbformat_minor": 5
}
