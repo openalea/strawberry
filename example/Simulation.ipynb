{
 "cells": [
  {
   "cell_type": "markdown",
   "metadata": {},
   "source": [
    "# Script to implement dynamic strawberry shoot growth"
   ]
  },
  {
   "cell_type": "code",
   "execution_count": 1,
   "metadata": {},
   "outputs": [
    {
     "name": "stdout",
     "output_type": "stream",
     "text": [
      "Automatic pdb calling has been turned ON\n"
     ]
    }
   ],
   "source": [
    "import openalea.plantgl.all as pgl\n",
    "from openalea.mtg.algo import orders\n",
    "from openalea.mtg.traversal import pre_order2, pre_order2_with_filter\n",
    "from oawidgets.plantgl import PlantGL\n",
    "import oawidgets.mtg as oa\n",
    "from openalea.strawberry.import_mtgfile import import_mtgfile\n",
    "from openalea.strawberry import visu2d\n",
    "from openalea.strawberry import geometry\n",
    "\n",
    "\n",
    "%gui qt\n",
    "%pdb"
   ]
  },
  {
   "cell_type": "code",
   "execution_count": 2,
   "metadata": {},
   "outputs": [],
   "source": [
    "g=import_mtgfile(filename= [\"Capriss\"])\n",
    "g.properties()['order'] = orders(g)\n"
   ]
  },
  {
   "cell_type": "code",
   "execution_count": null,
   "metadata": {},
   "outputs": [],
   "source": []
  },
  {
   "cell_type": "code",
   "execution_count": 3,
   "metadata": {},
   "outputs": [],
   "source": [
    "def plant_ids(g):\n",
    "    \"\"\" the vid of all plants in g\n",
    "\n",
    "    Args:\n",
    "        g: an mtg\n",
    "\n",
    "    Returns: (list of int) the vid of plants in g\n",
    "\n",
    "    \"\"\"\n",
    "    vids = g.component_roots_at_scale(g.root, 1)\n",
    "    if len(vids) > 0:\n",
    "        labels = g.property('label')\n",
    "        return [vid for vid in vids if labels[vid].startswith('P')]\n",
    "    else:\n",
    "        return vids\n",
    "    \n",
    "plante_ids =plant_ids(g)"
   ]
  },
  {
   "cell_type": "code",
   "execution_count": 4,
   "metadata": {},
   "outputs": [
    {
     "data": {
      "application/vnd.jupyter.widget-view+json": {
       "model_id": "31a011f93f364ccbbe00d7b808554b17",
       "version_major": 2,
       "version_minor": 0
      },
      "text/plain": [
       "Plot(antialias=3, axes=['x', 'y', 'z'], axes_helper=1.0, background_color=16777215, camera_animation=[], camer…"
      ]
     },
     "metadata": {},
     "output_type": "display_data"
    }
   ],
   "source": [
    "scene=visu2d.plot2d(g, vids=[plante_ids[10]],display=False)\n",
    "PlantGL(scene,group_by_color=False)"
   ]
  },
  {
   "cell_type": "code",
   "execution_count": 5,
   "metadata": {},
   "outputs": [],
   "source": [
    "pgl.Viewer.display(scene)"
   ]
  },
  {
   "cell_type": "markdown",
   "metadata": {},
   "source": [
    "# Add dynamic properties on the mtg to simulate developpement\n",
    "- phyllochrone:  intervening period between the sequential emergence of leaves "
   ]
  },
  {
   "cell_type": "code",
   "execution_count": 6,
   "metadata": {},
   "outputs": [
    {
     "data": {
      "text/plain": [
       "<openalea.mtg.mtg.MTG at 0x2bf46860ee0>"
      ]
     },
     "execution_count": 6,
     "metadata": {},
     "output_type": "execute_result"
    }
   ],
   "source": [
    "def thermal_time(g, phyllochron=50):\n",
    "    \"\"\"add start_tt and end_tt properties on MTG according to phyllochrone\n",
    "       The aim is to determine from the phyllochron a number of leaves that have appeared on the final MTG \n",
    "       and to calculate a delta that fixes the step of appearance delta_t= phyllochron / number of leaves present \n",
    "       in order to include a dynamic of appearance \n",
    "       \n",
    "       Pb: phyllochrone give the number of leaves displays\n",
    "       \n",
    "    Parameters\n",
    "    ----------\n",
    "    g : Object\n",
    "        An MTG\n",
    "    phyllochrone : int or float,\n",
    "        the intervening period between the sequential emergence of leaves\n",
    "\n",
    "    Returns\n",
    "    -------\n",
    "    Object\n",
    "        An MTG containing start_tt and end_tt properties\n",
    "    \"\"\"\n",
    "    plants= g.vertices(scale=1) # plantids\n",
    "    #module_scale = 2 #module scale\n",
    "    max_scale = g.max_scale() # echelle la plus elevé\n",
    "    my_scale = max_scale\n",
    "    \n",
    "    for plant in plants: \n",
    "        \n",
    "        root_id = next(g.component_roots_at_scale_iter(plant, scale=my_scale)) #vid of the first module (Trunk)\n",
    "        #time=0 # init a count variable\n",
    "        #last_time = time + phyllochrone # last time determine the vid of the last components\n",
    "        \n",
    "        for vid in pre_order2(g, root_id):\n",
    "            pid = g.parent(vid)\n",
    "            if pid is not None:\n",
    "                time = g.node(pid).end_tt\n",
    "            else:\n",
    "                time = 0 # to improve\n",
    "            \n",
    "            #time_end = time + phyllochron\n",
    "            n= g.node(vid)\n",
    "            n.start_tt=time\n",
    "            n.end_tt=time + phyllochron\n",
    "            \n",
    "            '''\n",
    "            components = n.components() # components of module\n",
    "            nb_components= n.nb_components() # number of component of the module\n",
    "            \n",
    "            last_node = time_end\n",
    "            \n",
    "            if nb_components!=0:\n",
    "                delta_time = phyllochron / last_node # delta time = time interval between components to reach phyllochrone\n",
    "                for component in components:          \n",
    "                    component.start_tt = last_node - delta_time # from de last node start of node\n",
    "                    component.end_tt = last_node # time for the last node\n",
    "                    last_node -= delta_time\n",
    "                   # print(time, \"plant_id :\",plant,\"module_id: \",module,\"node_id :\",component, \"label :\",component.label, \"start_tt :\",component.start_tt)\n",
    "            time +=phyllochron\n",
    "            '''\n",
    "    return g\n",
    "\n",
    "\n",
    "thermal_time(g,phyllochron=5)\n",
    "#g.property(\"start_tt\")"
   ]
  },
  {
   "cell_type": "markdown",
   "metadata": {},
   "source": [
    "* strawberry visitor 3d"
   ]
  },
  {
   "cell_type": "code",
   "execution_count": 7,
   "metadata": {},
   "outputs": [],
   "source": [
    "turtle=pgl.PglTurtle()\n",
    "\n",
    "def strawberry_visitor3d(g,v,turtle, time):\n",
    "    nid= g.node(v)\n",
    "    geoms = geometry.get_symbols()\n",
    "    label= nid.label\n",
    "    turtle=turtle\n",
    "    turtle.setWidth(0.01)\n",
    "\n",
    "    if nid.start_tt<=time<nid.end_tt:\n",
    "        #print(nid.start_tt,time,nid.end_tt)\n",
    "        if g.edge_type(v)== \"+\":\n",
    "            turtle.down(30)\n",
    "        elif label in (\"F\",\"f\"):\n",
    "            turtle.rollL(geometry.roll_angle)\n",
    "            #print(v,\":\",turtle.rollL(geometry.roll_angle))\n",
    "    else:\n",
    "        if g.edge_type(v)== \"+\":\n",
    "            turtle.down(30)\n",
    "        elif label in (\"F\",\"f\"):\n",
    "            turtle.rollL(geometry.roll_angle)\n",
    "    \n",
    "    v,turtle.setId(v)\n",
    "    geoms.get(label)(g, v, turtle)\n",
    "\n",
    "\n",
    "\n",
    "strawberry_visitor3d(g,v=3,turtle=turtle,time=0)\n"
   ]
  },
  {
   "cell_type": "markdown",
   "metadata": {},
   "source": [
    "* strawberry visitor2d\n"
   ]
  },
  {
   "cell_type": "code",
   "execution_count": 8,
   "metadata": {},
   "outputs": [],
   "source": [
    "\n",
    "def strawberry_visitor2d(g, v, turtle, time):\n",
    "    geoms = geometry.get_symbols2d()\n",
    "    turtle.setWidth(0.01)\n",
    "    nid = g.node(v)\n",
    "    label = g.label(v)\n",
    "    draw_it = nid.drawable\n",
    "    branch_ratio = nid.branch_ratio\n",
    "\n",
    "    if nid.start_tt<=time<nid.end_tt:\n",
    "        if label in ('F','f'):\n",
    "            turtle.rollL(180)\n",
    "\n",
    "        turtle.setId(v)\n",
    "\n",
    "        if not draw_it:\n",
    "            pass\n",
    "        elif (label == 'F'):\n",
    "            if visu2d.is_visible(g, v):\n",
    "                if visu2d.type_of_crown(v, g) == 3:\n",
    "                    angle = 30.\n",
    "                    length = 0.5\n",
    "                else:\n",
    "                    angle = 90.\n",
    "                    length = 1.5 * branch_ratio\n",
    "\n",
    "                turtle.down(angle)\n",
    "                turtle.F(length)\n",
    "                turtle.down(-angle)\n",
    "                \n",
    "        elif label == 'bt':\n",
    "            turtle.down(30.)\n",
    "            turtle.f(0.05)\n",
    "        elif label == 'HT':\n",
    "            turtle.F(0.1)\n",
    "\n",
    "        elif label == 's':\n",
    "            turtle.rollL(180)\n",
    "            turtle.f(0.05)\n",
    "    else:\n",
    "        if label in ('F','f'):\n",
    "            turtle.rollL(180)\n",
    "\n",
    "        turtle.setId(v)\n",
    "\n",
    "        if not draw_it:\n",
    "            pass\n",
    "        elif (label == 'F'):\n",
    "            if visu2d.is_visible(g, v):\n",
    "                if visu2d.type_of_crown(v, g) == 3:\n",
    "                    angle = 30.\n",
    "                    length = 0.5\n",
    "                else:\n",
    "                    angle = 90.\n",
    "                    length = 1.5 * branch_ratio\n",
    "\n",
    "                turtle.down(angle)\n",
    "                turtle.F(length)\n",
    "                turtle.down(-angle)\n",
    "                \n",
    "        elif label == 'bt':\n",
    "            turtle.down(30.)\n",
    "            turtle.f(0.05)\n",
    "        elif label == 'HT':\n",
    "            turtle.F(0.1)\n",
    "\n",
    "        elif label == 's':\n",
    "            turtle.rollL(180)\n",
    "            turtle.f(0.05)\n",
    "        turtle.setId(v)\n",
    "        geoms.get(label)(g, v, turtle)\n",
    "        \n"
   ]
  },
  {
   "cell_type": "code",
   "execution_count": 9,
   "metadata": {},
   "outputs": [],
   "source": [
    "def traverse_with_turtle_time(g, vid, time, visitor):\n",
    "    turtle = pgl.PglTurtle()\n",
    "    def push_turtle(v):\n",
    "        n = g.node(v)\n",
    "        try:\n",
    "            start_tt = n.start_tt\n",
    "            if start_tt > time:\n",
    "                return False\n",
    "        except: \n",
    "            pass\n",
    "        if g.edge_type(v) == '+':\n",
    "            turtle.push()\n",
    "        return True\n",
    "\n",
    "    def pop_turtle(v):\n",
    "        n = g.node(v)\n",
    "        try:\n",
    "            start_tt = n.start_tt\n",
    "            if start_tt > time:\n",
    "                return False\n",
    "        except: \n",
    "            pass\n",
    "        if g.edge_type(v) == '+':\n",
    "            turtle.pop()\n",
    "\n",
    "    if g.node(vid).start_tt <= time:\n",
    "        visitor(g,vid,turtle,time)\n",
    "\n",
    "    for v in pre_order2_with_filter(g, vid, None, push_turtle, pop_turtle):\n",
    "        if v == vid: continue\n",
    "        # Done for the leaves\n",
    "        if g.node(v).start_tt > time:\n",
    "            print('Do not consider ', v, time)\n",
    "            continue\n",
    "        visitor(g,v,turtle,time)\n",
    "    scene=turtle.getScene()\n",
    "    return scene\n",
    "\n"
   ]
  },
  {
   "cell_type": "code",
   "execution_count": 10,
   "metadata": {},
   "outputs": [],
   "source": [
    "def plot(g,phyllochron=1,plant=30,time_start=0,time_end=180, step=2,visitor=strawberry_visitor2d):\n",
    "    plantid= [vid for vid in g.vertices(scale=1)]\n",
    "    times=[x for x in range(time_start,time_end,step)]\n",
    "    \n",
    "    thermal_time(g,phyllochron=phyllochron)\n",
    "    for time in times:\n",
    "        vids=g.component_roots_at_scale(plantid[plant],scale=3)\n",
    "        visu2d.color_code(g,complete=False)\n",
    "        for vid in vids:\n",
    "            scene= traverse_with_turtle_time(g,vid=vid,visitor=visitor,time=time)\n",
    "\n",
    "        pgl.Viewer.display(scene)\n",
    "        #PlantGL(scene, group_by_color=True)\n"
   ]
  },
  {
   "cell_type": "code",
   "execution_count": 11,
   "metadata": {},
   "outputs": [],
   "source": [
    "plot(g,phyllochron=10,plant=48,time_start=0,time_end=400,step=2,visitor=strawberry_visitor2d)\n"
   ]
  },
  {
   "cell_type": "code",
   "execution_count": 12,
   "metadata": {},
   "outputs": [
    {
     "data": {
      "text/html": [
       "\n",
       "        <iframe\n",
       "            width=\"900px\"\n",
       "            height=\"800px\"\n",
       "            src=\"mtg.html\"\n",
       "            frameborder=\"0\"\n",
       "            allowfullscreen\n",
       "            \n",
       "        ></iframe>\n",
       "        "
      ],
      "text/plain": [
       "<IPython.lib.display.IFrame at 0x2bf4692e580>"
      ]
     },
     "execution_count": 12,
     "metadata": {},
     "output_type": "execute_result"
    }
   ],
   "source": [
    "from openalea.mtg.algo import split\n",
    "cap=split(g)\n",
    "oa.plot(cap[0])"
   ]
  }
 ],
 "metadata": {
  "kernelspec": {
   "display_name": "Python 3.9.13 ('breedingValue')",
   "language": "python",
   "name": "python3"
  },
  "language_info": {
   "codemirror_mode": {
    "name": "ipython",
    "version": 3
   },
   "file_extension": ".py",
   "mimetype": "text/x-python",
   "name": "python",
   "nbconvert_exporter": "python",
   "pygments_lexer": "ipython3",
   "version": "3.9.13"
  },
  "vscode": {
   "interpreter": {
    "hash": "8511a7d815af4f0f24e24865b1e6cc0021c6ff8c6b75992f68e470ff0f44a832"
   }
  }
 },
 "nbformat": 4,
 "nbformat_minor": 2
}
